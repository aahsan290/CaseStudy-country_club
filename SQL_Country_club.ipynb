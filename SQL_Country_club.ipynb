{
 "cells": [
  {
   "cell_type": "code",
   "execution_count": 42,
   "id": "761a1eca-6c6a-4455-af56-f716e4b2f953",
   "metadata": {},
   "outputs": [
    {
     "name": "stdout",
     "output_type": "stream",
     "text": [
      "2.6.0\n",
      "2. Query all tasks\n",
      "(0, 'Tennis Court 1', 5, 25, 10000, 200)\n",
      "(1, 'Tennis Court 2', 5, 25, 8000, 200)\n",
      "(2, 'Badminton Court', 0, 15.5, 4000, 50)\n",
      "(3, 'Table Tennis', 0, 5, 320, 10)\n",
      "(4, 'Massage Room 1', 9.9, 80, 4000, 3000)\n",
      "(5, 'Massage Room 2', 9.9, 80, 4000, 3000)\n",
      "(6, 'Squash Court', 3.5, 17.5, 5000, 80)\n",
      "(7, 'Snooker Table', 0, 5, 450, 15)\n",
      "(8, 'Pool Table', 0, 5, 400, 15)\n"
     ]
    }
   ],
   "source": [
    "import sqlite3\n",
    "from sqlite3 import Error\n",
    "\n",
    " \n",
    "def create_connection(db_file):\n",
    "    \"\"\" create a database connection to the SQLite database\n",
    "        specified by the db_file\n",
    "    :param db_file: database file\n",
    "    :return: Connection object or None\n",
    "    \"\"\"\n",
    "    conn = None\n",
    "    try:\n",
    "        conn = sqlite3.connect(db_file)\n",
    "        print(sqlite3.version)\n",
    "    except Error as e:\n",
    "        print(e)\n",
    " \n",
    "    return conn\n",
    "\n",
    " \n",
    "def select_all_tasks(conn):\n",
    "    \"\"\"\n",
    "    Query all rows in the tasks table\n",
    "    :param conn: the Connection object\n",
    "    :return:\n",
    "    \"\"\"\n",
    "    cur = conn.cursor()\n",
    "    \n",
    "    query1 = \"\"\"\n",
    "        SELECT *\n",
    "        FROM FACILITIES\n",
    "        \"\"\"\n",
    "    cur.execute(query1)\n",
    " \n",
    "    rows = cur.fetchall()\n",
    " \n",
    "    for row in rows:\n",
    "        print(row)\n",
    "\n",
    "\n",
    "def main():\n",
    "    database = \"sqlite_db_pythonsqlite.db\"\n",
    " \n",
    "    # create a database connection\n",
    "    conn = create_connection(database)\n",
    "    with conn: \n",
    "        print(\"2. Query all tasks\")\n",
    "        select_all_tasks(conn)\n",
    " \n",
    " \n",
    "if __name__ == '__main__':\n",
    "    main()"
   ]
  },
  {
   "cell_type": "code",
   "execution_count": 44,
   "id": "f0b0769a-7c80-41a0-ab9c-fc409e159bfe",
   "metadata": {},
   "outputs": [],
   "source": [
    "#Q10: Produce a list of facilities with a total revenue less than 1000.\n",
    "#The output of facility name and total revenue, sorted by revenue. Remember that there's a different cost for guests and members! *"
   ]
  },
  {
   "cell_type": "code",
   "execution_count": 55,
   "id": "913024a6-a8cf-4f4d-bec6-f1b6f528c3af",
   "metadata": {},
   "outputs": [
    {
     "name": "stdout",
     "output_type": "stream",
     "text": [
      "            name  total_revenue\n",
      "0   Table Tennis            180\n",
      "1  Snooker Table            240\n",
      "2     Pool Table            270\n"
     ]
    }
   ],
   "source": [
    "import pandas as pd\n",
    "import numpy as np\n",
    "import sqlite3 as sql\n",
    "\n",
    "\n",
    "database = 'sqlite_db_pythonsqlite.db'\n",
    "connection = sql.connect(database)\n",
    "\n",
    "query_q10 = '''SELECT Facilities.name, \n",
    "\tSUM(CASE WHEN Bookings.memid <> 0  \n",
    "    THEN Facilities.membercost * Bookings.slots \n",
    "    ELSE Facilities.guestcost * Bookings.slots \n",
    "    END) AS total_revenue\n",
    "FROM Facilities\n",
    "INNER JOIN Bookings ON Facilities.facid = Bookings.facid\n",
    "GROUP BY Facilities.name\n",
    "HAVING total_revenue < 1000\n",
    "ORDER BY total_revenue;'''\n",
    "\n",
    "df_q10 = pd.read_sql_query(query_q10, connection)\n",
    "\n",
    "\n",
    "print(df_q10)"
   ]
  },
  {
   "cell_type": "code",
   "execution_count": 65,
   "id": "06afd218-4a63-4bdb-9892-478a93aeb917",
   "metadata": {},
   "outputs": [],
   "source": [
    "# Q11: Produce a report of members and who recommended them in alphabetic surname,firstname order */"
   ]
  },
  {
   "cell_type": "code",
   "execution_count": 67,
   "id": "0d2b1429-7ee1-4887-b6ac-654e1bc21756",
   "metadata": {},
   "outputs": [
    {
     "name": "stdout",
     "output_type": "stream",
     "text": [
      "       member_surname member_firstname recomender_surname recomender_firstname\n",
      "0               Bader         Florence           Stibbons               Ponder\n",
      "1               Baker             Anne           Stibbons               Ponder\n",
      "2               Baker          Timothy            Farrell               Jemima\n",
      "3              Boothe              Tim             Rownam                  Tim\n",
      "4             Butters           Gerald              Smith               Darren\n",
      "5              Coplin             Joan              Baker              Timothy\n",
      "6             Crumpet            Erica              Smith                Tracy\n",
      "7                Dare            Nancy           Joplette               Janice\n",
      "8             Genting          Matthew            Butters               Gerald\n",
      "9                Hunt             John            Purview            Millicent\n",
      "10              Jones            David           Joplette               Janice\n",
      "11              Jones          Douglas              Jones                David\n",
      "12           Joplette           Janice              Smith               Darren\n",
      "13          Mackenzie             Anna              Smith               Darren\n",
      "14               Owen          Charles              Smith               Darren\n",
      "15             Pinker            David            Farrell               Jemima\n",
      "16            Purview        Millicent              Smith                Tracy\n",
      "17             Rumney        Henrietta            Genting              Matthew\n",
      "18             Sarwin        Ramnaresh              Bader             Florence\n",
      "19              Smith             Jack              Smith               Darren\n",
      "20           Stibbons           Ponder              Tracy               Burton\n",
      "21  Worthington-Smyth            Henry              Smith                Tracy\n"
     ]
    }
   ],
   "source": [
    "query_q11 = '''SELECT m.surname AS member_surname, m.firstname AS member_firstname, r.surname AS recomender_surname, r.firstname AS recomender_firstname\n",
    "FROM Members AS m\n",
    "JOIN Members AS r ON m.recommendedby = r.memid\n",
    "WHERE m.recommendedby != 0\n",
    "ORDER BY m.surname, m.firstname;'''\n",
    "\n",
    "df_q11 = pd.read_sql_query(query_q11, connection)\n",
    "\n",
    "\n",
    "print(df_q11)"
   ]
  },
  {
   "cell_type": "code",
   "execution_count": 69,
   "id": "152fc115-9b8b-4e59-a6a1-e437701743f6",
   "metadata": {},
   "outputs": [],
   "source": [
    "#Q12: Find the facilities with their usage by member, but not guests */"
   ]
  },
  {
   "cell_type": "code",
   "execution_count": 59,
   "id": "9817e87d-22eb-47a5-afa4-dcbd9358dd89",
   "metadata": {},
   "outputs": [],
   "source": [
    "query_q12 = '''SELECT f.name AS facility, m.firstname || ' ' || m.surname AS member_name, m.memid AS member_id\n",
    "FROM Bookings AS b\n",
    "INNER JOIN Facilities AS f ON b.facid = f.facid\n",
    "INNER JOIN Members AS m ON b.memid = m.memid \n",
    "WHERE b.memid != 0\n",
    "ORDER BY facility;'''\n",
    "\n",
    "df_q12 = pd.read_sql_query(query_q12, connection)"
   ]
  },
  {
   "cell_type": "code",
   "execution_count": 61,
   "id": "2b48e3ed-d31d-4880-9913-490f91386494",
   "metadata": {},
   "outputs": [
    {
     "name": "stdout",
     "output_type": "stream",
     "text": [
      "             facility   member_name  member_id\n",
      "0     Badminton Court  Darren Smith          1\n",
      "1     Badminton Court  Darren Smith          1\n",
      "2     Badminton Court  Darren Smith          1\n",
      "3     Badminton Court  Darren Smith          1\n",
      "4     Badminton Court  Darren Smith          1\n",
      "...               ...           ...        ...\n",
      "3155   Tennis Court 2    Tim Boothe          8\n",
      "3156   Tennis Court 2  Charles Owen         10\n",
      "3157   Tennis Court 2   David Jones         11\n",
      "3158   Tennis Court 2  Charles Owen         10\n",
      "3159   Tennis Court 2    Tim Boothe          8\n",
      "\n",
      "[3160 rows x 3 columns]\n"
     ]
    }
   ],
   "source": [
    "print(df_q12)"
   ]
  },
  {
   "cell_type": "code",
   "execution_count": 71,
   "id": "f0b89a15-b1d1-40a5-a32a-367271b594dd",
   "metadata": {},
   "outputs": [],
   "source": [
    "# Q13: Find the facilities usage by month, but not guests */"
   ]
  },
  {
   "cell_type": "code",
   "execution_count": 63,
   "id": "88a37d2a-4e86-45b4-9045-a35bc196b42a",
   "metadata": {},
   "outputs": [
    {
     "name": "stdout",
     "output_type": "stream",
     "text": [
      "  month  facility_usage\n",
      "0    07             480\n",
      "1    08            1168\n",
      "2    09            1512\n"
     ]
    }
   ],
   "source": [
    "query_q13 = '''SELECT STRFTIME('%m', starttime) AS month, COUNT(memid) AS facility_usage\n",
    "FROM Bookings\n",
    "WHERE memid != 0\n",
    "GROUP BY month;'''\n",
    "\n",
    "df_q13 = pd.read_sql_query(query_q13, connection)\n",
    "print(df_q13)"
   ]
  },
  {
   "cell_type": "code",
   "execution_count": null,
   "id": "c9c2458e-0bde-4544-9d77-1b1951768eef",
   "metadata": {},
   "outputs": [],
   "source": []
  }
 ],
 "metadata": {
  "kernelspec": {
   "display_name": "Python 3 (ipykernel)",
   "language": "python",
   "name": "python3"
  },
  "language_info": {
   "codemirror_mode": {
    "name": "ipython",
    "version": 3
   },
   "file_extension": ".py",
   "mimetype": "text/x-python",
   "name": "python",
   "nbconvert_exporter": "python",
   "pygments_lexer": "ipython3",
   "version": "3.11.7"
  }
 },
 "nbformat": 4,
 "nbformat_minor": 5
}
